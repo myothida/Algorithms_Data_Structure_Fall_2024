{
 "cells": [
  {
   "cell_type": "markdown",
   "metadata": {},
   "source": [
    "### Easy Problem (Reference from LeetCode) \n",
    "\n",
    "These exercises are taken from LeetCode, one of the leading coding platforms featuring a variety of interesting and challenging algorithmic questions. Many companies in the industry use this platform to interview candidates. To help you start thinking algorithmically, we will take a reverse approach. \n",
    "\n",
    "In this exercise, I have provided you with the solution for the following Problem: \n",
    "\n",
    "**Problem Description**\n",
    "\n",
    "**Given an integer x, return true if x is a palindrome, and false otherwise.**"
   ]
  },
  {
   "cell_type": "markdown",
   "metadata": {},
   "source": [
    "**Instructions**\n",
    "\n",
    "Please go through the code line by line and answer the following questions:\n",
    "\n",
    "1. Write a short description of what this function does.\n",
    "2. What is the output of the result if the input `x` is:\n",
    "    - 121\n",
    "    - 221\n",
    "    - 202\n",
    "3. What is the worst-case time complexity of the below algorithm? (Use Big-O notation)\n",
    "4. What is the worst-case space complexity of the below algorithm? (Use Big-O notation)\n"
   ]
  },
  {
   "cell_type": "code",
   "execution_count": 1,
   "metadata": {},
   "outputs": [],
   "source": [
    "def isPalindrome(x):\n",
    "    \"\"\"\n",
    "    :type x: int\n",
    "    :rtype: bool\n",
    "    \"\"\"\n",
    "    \n",
    "    # Negative numbers are not palindromes\n",
    "    if x < 0:\n",
    "        return False\n",
    "    \n",
    "    # Initialize variables\n",
    "    original = x\n",
    "    reversed_num = 0\n",
    "    \n",
    "    # Reverse the number\n",
    "    while x > 0:\n",
    "        digit = x % 10\n",
    "        reversed_num = reversed_num * 10 + digit\n",
    "        x = x // 10\n",
    "    \n",
    "    # Check if original and reversed numbers are the same\n",
    "    return original == reversed_num"
   ]
  }
 ],
 "metadata": {
  "kernelspec": {
   "display_name": "Python 3",
   "language": "python",
   "name": "python3"
  },
  "language_info": {
   "codemirror_mode": {
    "name": "ipython",
    "version": 3
   },
   "file_extension": ".py",
   "mimetype": "text/x-python",
   "name": "python",
   "nbconvert_exporter": "python",
   "pygments_lexer": "ipython3",
   "version": "3.12.1"
  }
 },
 "nbformat": 4,
 "nbformat_minor": 2
}
