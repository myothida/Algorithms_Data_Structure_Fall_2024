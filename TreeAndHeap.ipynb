{
 "cells": [
  {
   "cell_type": "code",
   "execution_count": 15,
   "metadata": {},
   "outputs": [],
   "source": [
    "class TreeNode:\n",
    "    def __init__(self, x):\n",
    "        self.val = x\n",
    "        self.left = None\n",
    "        self.right = None\n",
    "        \n",
    "    def addLeft(self, x):\n",
    "        self.left = x\n",
    "        return x\n",
    "    \n",
    "    def addRight(self, x):\n",
    "        self.right = x\n",
    "        return x    \n",
    "    \n",
    "def build_tree_from_list(lst):\n",
    "    if not lst:\n",
    "        return None\n",
    "\n",
    "    root = TreeNode(lst[0])\n",
    "    queue = [root]\n",
    "    index = 1\n",
    "\n",
    "    while queue and index < len(lst):\n",
    "        current = queue.pop(0)\n",
    "        \n",
    "        # Add left child\n",
    "        if index < len(lst):\n",
    "            current.left = TreeNode(lst[index])\n",
    "            queue.append(current.left)\n",
    "            index += 1\n",
    "        \n",
    "        # Add right child\n",
    "        if index < len(lst):\n",
    "            current.right = TreeNode(lst[index])\n",
    "            queue.append(current.right)\n",
    "            index += 1\n",
    "\n",
    "    return root\n",
    "\n",
    "# Example usage\n",
    "lst = [3, 4, 5, 7, 9]\n",
    "root = build_tree_from_list(lst)"
   ]
  },
  {
   "cell_type": "code",
   "execution_count": 2,
   "metadata": {},
   "outputs": [
    {
     "name": "stdout",
     "output_type": "stream",
     "text": [
      "\n",
      "    __3\n",
      "   /   \\\n",
      "  4     5\n",
      " / \\\n",
      "7   9\n",
      "\n"
     ]
    }
   ],
   "source": [
    "from binarytree import Node, build\n",
    "\n",
    "ls = [3, 4, 5, 7, 9]\n",
    "tree = build(ls)\n",
    "print(tree)"
   ]
  }
 ],
 "metadata": {
  "kernelspec": {
   "display_name": "Python 3",
   "language": "python",
   "name": "python3"
  },
  "language_info": {
   "codemirror_mode": {
    "name": "ipython",
    "version": 3
   },
   "file_extension": ".py",
   "mimetype": "text/x-python",
   "name": "python",
   "nbconvert_exporter": "python",
   "pygments_lexer": "ipython3",
   "version": "3.12.1"
  }
 },
 "nbformat": 4,
 "nbformat_minor": 2
}
