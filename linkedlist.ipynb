{
 "cells": [
  {
   "cell_type": "code",
   "execution_count": 5,
   "metadata": {},
   "outputs": [
    {
     "name": "stdout",
     "output_type": "stream",
     "text": [
      "4 3 2 1 \n"
     ]
    }
   ],
   "source": [
    "class Node:\n",
    "    def __init__(self, data):\n",
    "        self.data = data\n",
    "        self.next = None\n",
    "        \n",
    "class LinkedList:\n",
    "    def __init__(self):\n",
    "        self.head = None\n",
    "        self.tail = None\n",
    "        \n",
    "    def insert_at_beginning(self, data):\n",
    "        new_node = Node(data)\n",
    "        if self.head is None:\n",
    "            self.head = new_node\n",
    "            self.tail = new_node\n",
    "        else:\n",
    "            new_node.next = self.head\n",
    "            self.head = new_node\n",
    "            \n",
    "    def insert_at_end(self, data):\n",
    "        new_node = Node(data)\n",
    "        if self.head is None:\n",
    "            self.head = new_node\n",
    "            self.tail = new_node\n",
    "        else:\n",
    "            self.tail.next = new_node\n",
    "            self.tail = new_node\n",
    "        \n",
    "    def delete_at_beginning(self):\n",
    "        if self.head is None:\n",
    "            print(\"List is empty\")\n",
    "        else:\n",
    "            self.head = self.head.next\n",
    "            \n",
    "    def delete_at_end(self):\n",
    "        if self.head is None:\n",
    "            print(\"List is empty\")\n",
    "        else:\n",
    "            temp = self.head\n",
    "            while temp.next != self.tail:\n",
    "                temp = temp.next                \n",
    "            temp.next = None\n",
    "            self.tail = temp\n",
    "            \n",
    "    def display(self):\n",
    "        temp = self.head\n",
    "        while temp:\n",
    "            print(temp.data, end=\" \")\n",
    "            temp = temp.next\n",
    "        print()\n",
    "        \n",
    "    def search(self, data):\n",
    "        temp = self.head\n",
    "        while temp:\n",
    "            if temp.data == data:\n",
    "                return True\n",
    "            temp = temp.next\n",
    "        return False\n",
    "    \n",
    "    def reverse(self):\n",
    "        prev = None\n",
    "        current = self.head\n",
    "        while current is not None:\n",
    "            next_node = current.next\n",
    "            current.next = prev\n",
    "            prev = current\n",
    "            current = next_node\n",
    "        self.head = prev\n",
    "        \n",
    "if __name__ == \"__main__\":\n",
    "    list1 = LinkedList()\n",
    "    for i in range(1, 6):\n",
    "        list1.insert_at_end(i)\n",
    "    list1.delete_at_end()\n",
    "    list1.reverse()\n",
    "    list1.display()\n",
    " "
   ]
  }
 ],
 "metadata": {
  "kernelspec": {
   "display_name": ".venv",
   "language": "python",
   "name": "python3"
  },
  "language_info": {
   "codemirror_mode": {
    "name": "ipython",
    "version": 3
   },
   "file_extension": ".py",
   "mimetype": "text/x-python",
   "name": "python",
   "nbconvert_exporter": "python",
   "pygments_lexer": "ipython3",
   "version": "3.12.1"
  }
 },
 "nbformat": 4,
 "nbformat_minor": 2
}
