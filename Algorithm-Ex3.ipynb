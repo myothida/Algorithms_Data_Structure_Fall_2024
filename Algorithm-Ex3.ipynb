{
 "cells": [
  {
   "cell_type": "markdown",
   "metadata": {},
   "source": [
    "### Easy Problem (Reference from LeetCode) \n",
    "\n",
    "**Seven different symbols represent Roman numerals with the following values:**\n",
    "\n",
    "| Symbol | Value |\n",
    "|--------|-------|\n",
    "| I      | 1     |\n",
    "| V      | 5     |\n",
    "| X      | 10    |\n",
    "| L      | 50    |\n",
    "| C      | 100   |\n",
    "| D      | 500   |\n",
    "| M      | 1000  |\n",
    "\n",
    "**Roman numerals are formed by appending the conversions of decimal place values from highest to lowest. Converting a decimal place value into a Roman numeral has the following rules:**\n",
    "\n",
    "1. If the value does not start with 4 or 9, select the symbol of the maximal value that can be subtracted from the input, append that symbol to the result, subtract its value, and convert the remainder to a Roman numeral.\n",
    "2. If the value starts with 4 or 9, use the subtractive form representing one symbol subtracted from the following symbol. For example:\n",
    "    - 4 is 1 (I) less than 5 (V): **IV**\n",
    "    - 9 is 1 (I) less than 10 (X): **IX**\n",
    "    - Only the following subtractive forms are used: 4 (IV), 9 (IX), 40 (XL), 90 (XC), 400 (CD), and 900 (CM).\n",
    "3. Only powers of 10 (I, X, C, M) can be appended consecutively at most 3 times to represent multiples of 10. You cannot append 5 (V), 50 (L), or 500 (D) multiple times. If you need to append a symbol 4 times, use the subtractive form.\n",
    "\n",
    "##### ***Given an integer, convert it to a Roman numeral.***\n",
    "-----------------------------------------------------------------------\n"
   ]
  },
  {
   "cell_type": "markdown",
   "metadata": {},
   "source": [
    "**Instructions**\n",
    "I have provided you with the solution for the above problem. \n",
    "Please go through the code line by line and answer the following questions:\n",
    "\n",
    "1. Write a short description of what this function does.\n",
    "2. What is the output of the result if the input **num** is:\n",
    "    - 58\n",
    "    - 3648\n",
    "3.  Explain how you get the answer in Q2. \n",
    "4.  What is the worst-case time complexity of the below algorithm? (Use Big-O notation)\n",
    "5.  What is the worst-case space complexity of the below algorithm? (Use Big-O notation)"
   ]
  },
  {
   "cell_type": "code",
   "execution_count": 11,
   "metadata": {},
   "outputs": [],
   "source": [
    "def intToRoman(num):\n",
    "    \"\"\"\n",
    "    :type num: int\n",
    "    :rtype: str\n",
    "    \"\"\"\n",
    "        # Define the Roman numeral mappings from largest to smallest\n",
    "    value_to_roman = [\n",
    "        (1000, \"M\"), (900, \"CM\"), (500, \"D\"), (400, \"CD\"),\n",
    "        (100, \"C\"), (90, \"XC\"), (50, \"L\"), (40, \"XL\"),\n",
    "        (10, \"X\"), (9, \"IX\"), (5, \"V\"), (4, \"IV\"), (1, \"I\")\n",
    "    ]\n",
    "    \n",
    "    result = []\n",
    "    \n",
    "    # Iterate through the value-to-roman mappings\n",
    "    for value, roman in value_to_roman:\n",
    "        while num >= value:\n",
    "            result.append(roman)\n",
    "            num -= value\n",
    "                    \n",
    "    return ''.join(result)\n"
   ]
  }
 ],
 "metadata": {
  "kernelspec": {
   "display_name": ".venv",
   "language": "python",
   "name": "python3"
  },
  "language_info": {
   "codemirror_mode": {
    "name": "ipython",
    "version": 3
   },
   "file_extension": ".py",
   "mimetype": "text/x-python",
   "name": "python",
   "nbconvert_exporter": "python",
   "pygments_lexer": "ipython3",
   "version": "3.12.1"
  }
 },
 "nbformat": 4,
 "nbformat_minor": 2
}
